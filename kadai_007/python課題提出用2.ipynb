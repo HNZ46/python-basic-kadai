{
  "nbformat": 4,
  "nbformat_minor": 0,
  "metadata": {
    "colab": {
      "provenance": []
    },
    "kernelspec": {
      "name": "python3",
      "display_name": "Python 3"
    },
    "language_info": {
      "name": "python"
    }
  },
  "cells": [
    {
      "cell_type": "code",
      "execution_count": 1,
      "metadata": {
        "colab": {
          "base_uri": "https://localhost:8080/"
        },
        "id": "lbJ9Cx7MnuV4",
        "outputId": "c86b9985-2b72-4abf-f640-7bcf878dea8c"
      },
      "outputs": [
        {
          "output_type": "stream",
          "name": "stdout",
          "text": [
            "水曜日の天気予報: 晴れ\n"
          ]
        }
      ],
      "source": [
        "#リスト\n",
        "days = [\"月曜日\", \"火曜日\", \"水曜日\", \"木曜日\", \"金曜日\", \"土曜日\", \"日曜日\"]\n",
        "weather = [\"晴れ\", \"雨\", \"晴れ\", \"晴れ\", \"曇り\", \"曇りのち雨\", \"雷雨\"]\n",
        "wednesday_weather = weather[days.index(\"水曜日\")]\n",
        "print(\"水曜日の天気予報:\", wednesday_weather)"
      ]
    },
    {
      "cell_type": "code",
      "source": [
        "#ディクショナリ\n",
        "weather_dict = {\"月曜日\": \"晴れ\", \"火曜日\": \"雨\", \"水曜日\": \"晴れ\", \"木曜日\": \"晴れ\", \"金曜日\": \"曇り\",\n",
        "                \"土曜日\": \"曇りのち雨\", \"日曜日\": \"雷雨\"}\n",
        "wednesday_weather = weather_dict[\"水曜日\"]\n",
        "print(\"水曜日の天気予報:\", wednesday_weather)"
      ],
      "metadata": {
        "colab": {
          "base_uri": "https://localhost:8080/"
        },
        "id": "TMgtoYxEsq2A",
        "outputId": "b9a96fbb-596b-4fad-c3fd-18cf8ec5796c"
      },
      "execution_count": 4,
      "outputs": [
        {
          "output_type": "stream",
          "name": "stdout",
          "text": [
            "水曜日の天気予報: 晴れ\n"
          ]
        }
      ]
    }
  ]
}