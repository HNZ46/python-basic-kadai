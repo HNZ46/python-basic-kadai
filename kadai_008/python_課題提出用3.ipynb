{
  "nbformat": 4,
  "nbformat_minor": 0,
  "metadata": {
    "colab": {
      "provenance": []
    },
    "kernelspec": {
      "name": "python3",
      "display_name": "Python 3"
    },
    "language_info": {
      "name": "python"
    }
  },
  "cells": [
    {
      "cell_type": "code",
      "source": [
        "def fizz_buzz(var):\n",
        "    if var % 3 == 0 and var % 5 == 0:\n",
        "        return \"FizzBuzz\"\n",
        "    elif var % 3 == 0:\n",
        "        return \"Fizz\"\n",
        "    elif var % 5 == 0:\n",
        "        return \"Buzz\"\n",
        "    else:\n",
        "        return var\n",
        "\n",
        "print(fizz_buzz(11))\n",
        "print(fizz_buzz(15))\n",
        "print(fizz_buzz(9))\n",
        "print(fizz_buzz(10))"
      ],
      "metadata": {
        "colab": {
          "base_uri": "https://localhost:8080/"
        },
        "id": "AdJsFFPxm6yK",
        "outputId": "2d20105d-cc1f-4959-aff3-38741e04173e"
      },
      "execution_count": 12,
      "outputs": [
        {
          "output_type": "stream",
          "name": "stdout",
          "text": [
            "11\n",
            "FizzBuzz\n",
            "Fizz\n",
            "Buzz\n"
          ]
        }
      ]
    }
  ]
}