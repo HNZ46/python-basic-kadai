{
  "nbformat": 4,
  "nbformat_minor": 0,
  "metadata": {
    "colab": {
      "provenance": []
    },
    "kernelspec": {
      "name": "python3",
      "display_name": "Python 3"
    },
    "language_info": {
      "name": "python"
    }
  },
  "cells": [
    {
      "cell_type": "code",
      "execution_count": 2,
      "metadata": {
        "colab": {
          "base_uri": "https://localhost:8080/"
        },
        "id": "gegE_j1KJhJG",
        "outputId": "1f0f49b2-51e8-4cc6-e375-518dc10eb4d8"
      },
      "outputs": [
        {
          "output_type": "stream",
          "name": "stdout",
          "text": [
            "消費税込みの金額は: 1100.0円です\n"
          ]
        }
      ],
      "source": [
        "def calculate_total_price(price, tax_rate):\n",
        "    \"\"\"\n",
        "    :param price:\n",
        "    :param tax_rate:\n",
        "    :return:\n",
        "    \"\"\"\n",
        "    total_price = price * (1 + tax_rate)\n",
        "    return total_price\n",
        "\n",
        "price = 1000\n",
        "tax_rate = 0.10\n",
        "total = calculate_total_price(price, tax_rate)\n",
        "print(f\"消費税込みの金額は: {total}円です\")"
      ]
    }
  ]
}