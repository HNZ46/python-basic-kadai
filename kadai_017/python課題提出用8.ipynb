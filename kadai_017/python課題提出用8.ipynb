{
  "nbformat": 4,
  "nbformat_minor": 0,
  "metadata": {
    "colab": {
      "provenance": []
    },
    "kernelspec": {
      "name": "python3",
      "display_name": "Python 3"
    },
    "language_info": {
      "name": "python"
    }
  },
  "cells": [
    {
      "cell_type": "code",
      "execution_count": 12,
      "metadata": {
        "colab": {
          "base_uri": "https://localhost:8080/"
        },
        "id": "ZlW7pV6O8Q7T",
        "outputId": "343adfe6-a69e-4f75-9037-431d77ac394f"
      },
      "outputs": [
        {
          "output_type": "stream",
          "name": "stdout",
          "text": [
            "侍太郎は大人です。\n",
            "侍二郎は大人ではないです。\n"
          ]
        }
      ],
      "source": [
        "class Human:\n",
        "    def __init__(self, name,age):\n",
        "      self.name = name\n",
        "      self.age = age\n",
        "\n",
        "    def check_adult(self):\n",
        "        if self.age >= 20:\n",
        "            print(f\"{self.name}は大人です。\")\n",
        "        else:\n",
        "            print(f\"{self.name}は大人ではないです。\")\n",
        "\n",
        "human1 = Human(\"侍太郎\",25)\n",
        "human2 = Human(\"侍二郎\",17)\n",
        "human3 = Human(\"侍三郎\",30)\n",
        "humans = [human1, human2, human3]\n",
        "\n",
        "human1.check_adult()\n",
        "human2.check_adult()"
      ]
    }
  ]
}