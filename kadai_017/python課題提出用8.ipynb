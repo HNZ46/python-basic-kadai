{
  "nbformat": 4,
  "nbformat_minor": 0,
  "metadata": {
    "colab": {
      "provenance": []
    },
    "kernelspec": {
      "name": "python3",
      "display_name": "Python 3"
    },
    "language_info": {
      "name": "python"
    }
  },
  "cells": [
    {
      "cell_type": "code",
      "execution_count": 13,
      "metadata": {
        "colab": {
          "base_uri": "https://localhost:8080/"
        },
        "id": "ZlW7pV6O8Q7T",
        "outputId": "c9adfc87-d82f-4a8f-99c8-394f4f82702b"
      },
      "outputs": [
        {
          "output_type": "stream",
          "name": "stdout",
          "text": [
            "侍太郎は大人です。\n",
            "侍二郎は大人ではないです。\n",
            "侍三郎は大人です。\n"
          ]
        }
      ],
      "source": [
        "class Human:\n",
        "    def __init__(self, name,age):\n",
        "      self.name = name\n",
        "      self.age = age\n",
        "\n",
        "    def check_adult(self):\n",
        "        if self.age >= 20:\n",
        "            print(f\"{self.name}は大人です。\")\n",
        "        else:\n",
        "            print(f\"{self.name}は大人ではないです。\")\n",
        "\n",
        "human1 = Human(\"侍太郎\",25)\n",
        "human2 = Human(\"侍二郎\",17)\n",
        "human3 = Human(\"侍三郎\",30)\n",
        "humans = [human1, human2, human3]\n",
        "\n",
        "human1.check_adult()\n",
        "human2.check_adult()\n",
        "human3.check_adult()"
      ]
    }
  ]
}